{
 "cells": [
  {
   "cell_type": "code",
   "execution_count": 2,
   "id": "0734af15",
   "metadata": {},
   "outputs": [],
   "source": [
    "import numpy as np\n",
    "import pandas as pd"
   ]
  },
  {
   "cell_type": "code",
   "execution_count": 3,
   "id": "85e85185",
   "metadata": {},
   "outputs": [],
   "source": [
    "data=pd.read_excel(r\"F:\\download from c to e\\WellA.xlsx\")"
   ]
  },
  {
   "cell_type": "code",
   "execution_count": 4,
   "id": "5e3264a2",
   "metadata": {},
   "outputs": [
    {
     "data": {
      "text/html": [
       "<div>\n",
       "<style scoped>\n",
       "    .dataframe tbody tr th:only-of-type {\n",
       "        vertical-align: middle;\n",
       "    }\n",
       "\n",
       "    .dataframe tbody tr th {\n",
       "        vertical-align: top;\n",
       "    }\n",
       "\n",
       "    .dataframe thead th {\n",
       "        text-align: right;\n",
       "    }\n",
       "</style>\n",
       "<table border=\"1\" class=\"dataframe\">\n",
       "  <thead>\n",
       "    <tr style=\"text-align: right;\">\n",
       "      <th></th>\n",
       "      <th>mbsf</th>\n",
       "      <th>Vp</th>\n",
       "      <th>Sh1</th>\n",
       "      <th>Unnamed: 3</th>\n",
       "      <th>Unnamed: 4</th>\n",
       "      <th>Unnamed: 5</th>\n",
       "      <th>Vp.1</th>\n",
       "      <th>mbsf.1</th>\n",
       "      <th>Sh1.1</th>\n",
       "      <th>mbsf.2</th>\n",
       "      <th>Unnamed: 10</th>\n",
       "      <th>Unnamed: 11</th>\n",
       "      <th>Unnamed: 12</th>\n",
       "      <th>Unnamed: 13</th>\n",
       "    </tr>\n",
       "  </thead>\n",
       "  <tbody>\n",
       "    <tr>\n",
       "      <th>0</th>\n",
       "      <td>253.3626</td>\n",
       "      <td>1593.1084</td>\n",
       "      <td>0.356688</td>\n",
       "      <td>NaN</td>\n",
       "      <td>NaN</td>\n",
       "      <td>NaN</td>\n",
       "      <td>1593.1084</td>\n",
       "      <td>253.3626</td>\n",
       "      <td>0.356688</td>\n",
       "      <td>253.3626</td>\n",
       "      <td>NaN</td>\n",
       "      <td>NaN</td>\n",
       "      <td>NaN</td>\n",
       "      <td>NaN</td>\n",
       "    </tr>\n",
       "    <tr>\n",
       "      <th>1</th>\n",
       "      <td>253.5150</td>\n",
       "      <td>1592.8976</td>\n",
       "      <td>0.991884</td>\n",
       "      <td>NaN</td>\n",
       "      <td>NaN</td>\n",
       "      <td>NaN</td>\n",
       "      <td>1592.8976</td>\n",
       "      <td>253.5150</td>\n",
       "      <td>0.991884</td>\n",
       "      <td>253.5150</td>\n",
       "      <td>NaN</td>\n",
       "      <td>NaN</td>\n",
       "      <td>NaN</td>\n",
       "      <td>NaN</td>\n",
       "    </tr>\n",
       "    <tr>\n",
       "      <th>2</th>\n",
       "      <td>253.6674</td>\n",
       "      <td>1542.5710</td>\n",
       "      <td>1.148840</td>\n",
       "      <td>NaN</td>\n",
       "      <td>NaN</td>\n",
       "      <td>NaN</td>\n",
       "      <td>1542.5710</td>\n",
       "      <td>253.6674</td>\n",
       "      <td>1.148840</td>\n",
       "      <td>253.6674</td>\n",
       "      <td>NaN</td>\n",
       "      <td>NaN</td>\n",
       "      <td>NaN</td>\n",
       "      <td>NaN</td>\n",
       "    </tr>\n",
       "    <tr>\n",
       "      <th>3</th>\n",
       "      <td>253.8198</td>\n",
       "      <td>1543.9790</td>\n",
       "      <td>0.956694</td>\n",
       "      <td>NaN</td>\n",
       "      <td>NaN</td>\n",
       "      <td>NaN</td>\n",
       "      <td>1543.9790</td>\n",
       "      <td>253.8198</td>\n",
       "      <td>0.956694</td>\n",
       "      <td>253.8198</td>\n",
       "      <td>NaN</td>\n",
       "      <td>NaN</td>\n",
       "      <td>NaN</td>\n",
       "      <td>NaN</td>\n",
       "    </tr>\n",
       "    <tr>\n",
       "      <th>4</th>\n",
       "      <td>253.9722</td>\n",
       "      <td>1544.2428</td>\n",
       "      <td>2.083024</td>\n",
       "      <td>NaN</td>\n",
       "      <td>NaN</td>\n",
       "      <td>NaN</td>\n",
       "      <td>1544.2428</td>\n",
       "      <td>253.9722</td>\n",
       "      <td>2.083024</td>\n",
       "      <td>253.9722</td>\n",
       "      <td>NaN</td>\n",
       "      <td>NaN</td>\n",
       "      <td>NaN</td>\n",
       "      <td>NaN</td>\n",
       "    </tr>\n",
       "    <tr>\n",
       "      <th>...</th>\n",
       "      <td>...</td>\n",
       "      <td>...</td>\n",
       "      <td>...</td>\n",
       "      <td>...</td>\n",
       "      <td>...</td>\n",
       "      <td>...</td>\n",
       "      <td>...</td>\n",
       "      <td>...</td>\n",
       "      <td>...</td>\n",
       "      <td>...</td>\n",
       "      <td>...</td>\n",
       "      <td>...</td>\n",
       "      <td>...</td>\n",
       "      <td>...</td>\n",
       "    </tr>\n",
       "    <tr>\n",
       "      <th>551</th>\n",
       "      <td>337.3350</td>\n",
       "      <td>1488.9824</td>\n",
       "      <td>1.690062</td>\n",
       "      <td>NaN</td>\n",
       "      <td>NaN</td>\n",
       "      <td>NaN</td>\n",
       "      <td>1488.9824</td>\n",
       "      <td>337.3350</td>\n",
       "      <td>1.690062</td>\n",
       "      <td>337.3350</td>\n",
       "      <td>NaN</td>\n",
       "      <td>NaN</td>\n",
       "      <td>NaN</td>\n",
       "      <td>NaN</td>\n",
       "    </tr>\n",
       "    <tr>\n",
       "      <th>552</th>\n",
       "      <td>337.4874</td>\n",
       "      <td>1488.2852</td>\n",
       "      <td>0.891237</td>\n",
       "      <td>NaN</td>\n",
       "      <td>NaN</td>\n",
       "      <td>NaN</td>\n",
       "      <td>1488.2852</td>\n",
       "      <td>337.4874</td>\n",
       "      <td>0.891237</td>\n",
       "      <td>337.4874</td>\n",
       "      <td>NaN</td>\n",
       "      <td>NaN</td>\n",
       "      <td>NaN</td>\n",
       "      <td>NaN</td>\n",
       "    </tr>\n",
       "    <tr>\n",
       "      <th>553</th>\n",
       "      <td>337.6398</td>\n",
       "      <td>1483.4443</td>\n",
       "      <td>0.611734</td>\n",
       "      <td>NaN</td>\n",
       "      <td>NaN</td>\n",
       "      <td>NaN</td>\n",
       "      <td>1483.4443</td>\n",
       "      <td>337.6398</td>\n",
       "      <td>0.611734</td>\n",
       "      <td>337.6398</td>\n",
       "      <td>NaN</td>\n",
       "      <td>NaN</td>\n",
       "      <td>NaN</td>\n",
       "      <td>NaN</td>\n",
       "    </tr>\n",
       "    <tr>\n",
       "      <th>554</th>\n",
       "      <td>337.7922</td>\n",
       "      <td>1492.2281</td>\n",
       "      <td>0.717883</td>\n",
       "      <td>NaN</td>\n",
       "      <td>NaN</td>\n",
       "      <td>NaN</td>\n",
       "      <td>1492.2281</td>\n",
       "      <td>337.7922</td>\n",
       "      <td>0.717883</td>\n",
       "      <td>337.7922</td>\n",
       "      <td>NaN</td>\n",
       "      <td>NaN</td>\n",
       "      <td>NaN</td>\n",
       "      <td>NaN</td>\n",
       "    </tr>\n",
       "    <tr>\n",
       "      <th>555</th>\n",
       "      <td>337.9446</td>\n",
       "      <td>1492.3627</td>\n",
       "      <td>1.415595</td>\n",
       "      <td>NaN</td>\n",
       "      <td>NaN</td>\n",
       "      <td>NaN</td>\n",
       "      <td>1492.3627</td>\n",
       "      <td>337.9446</td>\n",
       "      <td>1.415595</td>\n",
       "      <td>337.9446</td>\n",
       "      <td>NaN</td>\n",
       "      <td>NaN</td>\n",
       "      <td>NaN</td>\n",
       "      <td>NaN</td>\n",
       "    </tr>\n",
       "  </tbody>\n",
       "</table>\n",
       "<p>556 rows × 14 columns</p>\n",
       "</div>"
      ],
      "text/plain": [
       "         mbsf         Vp       Sh1  Unnamed: 3  Unnamed: 4  Unnamed: 5  \\\n",
       "0    253.3626  1593.1084  0.356688         NaN         NaN         NaN   \n",
       "1    253.5150  1592.8976  0.991884         NaN         NaN         NaN   \n",
       "2    253.6674  1542.5710  1.148840         NaN         NaN         NaN   \n",
       "3    253.8198  1543.9790  0.956694         NaN         NaN         NaN   \n",
       "4    253.9722  1544.2428  2.083024         NaN         NaN         NaN   \n",
       "..        ...        ...       ...         ...         ...         ...   \n",
       "551  337.3350  1488.9824  1.690062         NaN         NaN         NaN   \n",
       "552  337.4874  1488.2852  0.891237         NaN         NaN         NaN   \n",
       "553  337.6398  1483.4443  0.611734         NaN         NaN         NaN   \n",
       "554  337.7922  1492.2281  0.717883         NaN         NaN         NaN   \n",
       "555  337.9446  1492.3627  1.415595         NaN         NaN         NaN   \n",
       "\n",
       "          Vp.1    mbsf.1     Sh1.1    mbsf.2  Unnamed: 10  Unnamed: 11  \\\n",
       "0    1593.1084  253.3626  0.356688  253.3626          NaN          NaN   \n",
       "1    1592.8976  253.5150  0.991884  253.5150          NaN          NaN   \n",
       "2    1542.5710  253.6674  1.148840  253.6674          NaN          NaN   \n",
       "3    1543.9790  253.8198  0.956694  253.8198          NaN          NaN   \n",
       "4    1544.2428  253.9722  2.083024  253.9722          NaN          NaN   \n",
       "..         ...       ...       ...       ...          ...          ...   \n",
       "551  1488.9824  337.3350  1.690062  337.3350          NaN          NaN   \n",
       "552  1488.2852  337.4874  0.891237  337.4874          NaN          NaN   \n",
       "553  1483.4443  337.6398  0.611734  337.6398          NaN          NaN   \n",
       "554  1492.2281  337.7922  0.717883  337.7922          NaN          NaN   \n",
       "555  1492.3627  337.9446  1.415595  337.9446          NaN          NaN   \n",
       "\n",
       "     Unnamed: 12  Unnamed: 13  \n",
       "0            NaN          NaN  \n",
       "1            NaN          NaN  \n",
       "2            NaN          NaN  \n",
       "3            NaN          NaN  \n",
       "4            NaN          NaN  \n",
       "..           ...          ...  \n",
       "551          NaN          NaN  \n",
       "552          NaN          NaN  \n",
       "553          NaN          NaN  \n",
       "554          NaN          NaN  \n",
       "555          NaN          NaN  \n",
       "\n",
       "[556 rows x 14 columns]"
      ]
     },
     "execution_count": 4,
     "metadata": {},
     "output_type": "execute_result"
    }
   ],
   "source": [
    "data"
   ]
  },
  {
   "cell_type": "code",
   "execution_count": 5,
   "id": "b66d5e16",
   "metadata": {},
   "outputs": [],
   "source": [
    "vp=data.Vp\n",
    "sat=data.Sh1"
   ]
  },
  {
   "cell_type": "code",
   "execution_count": 6,
   "id": "5c0b3cc2",
   "metadata": {},
   "outputs": [],
   "source": [
    "vp=vp[:300]\n",
    "sat=sat[:300]"
   ]
  },
  {
   "cell_type": "code",
   "execution_count": 7,
   "id": "f03d11f8",
   "metadata": {},
   "outputs": [],
   "source": [
    "x=np.array(vp)\n",
    "y=np.array(sat)"
   ]
  },
  {
   "cell_type": "code",
   "execution_count": 8,
   "id": "c9911161",
   "metadata": {},
   "outputs": [],
   "source": [
    "def rb(p,q):\n",
    "    return np.exp(-(p-q)**2)"
   ]
  },
  {
   "cell_type": "code",
   "execution_count": 9,
   "id": "bd5188c5",
   "metadata": {},
   "outputs": [],
   "source": [
    "matrix=np.zeros((len(vp),len(vp)))"
   ]
  },
  {
   "cell_type": "code",
   "execution_count": 10,
   "id": "fdd2bef7",
   "metadata": {},
   "outputs": [
    {
     "data": {
      "text/plain": [
       "300"
      ]
     },
     "execution_count": 10,
     "metadata": {},
     "output_type": "execute_result"
    }
   ],
   "source": [
    "len(x)"
   ]
  },
  {
   "cell_type": "code",
   "execution_count": 11,
   "id": "5a8d0e4a",
   "metadata": {},
   "outputs": [],
   "source": [
    "for i in range(0,len(y)):\n",
    "    for j in range(0,len(y)):\n",
    "        matrix[i][j]=rb(x[i],x[j])"
   ]
  },
  {
   "cell_type": "code",
   "execution_count": 12,
   "id": "647ca9e6",
   "metadata": {},
   "outputs": [
    {
     "data": {
      "text/plain": [
       "(300, 300)"
      ]
     },
     "execution_count": 12,
     "metadata": {},
     "output_type": "execute_result"
    }
   ],
   "source": [
    "matrix.shape"
   ]
  },
  {
   "cell_type": "code",
   "execution_count": 13,
   "id": "ef45032c",
   "metadata": {},
   "outputs": [
    {
     "data": {
      "text/plain": [
       "array([3.56687989e-01, 9.91884469e-01, 1.14884040e+00, 9.56693641e-01,\n",
       "       2.08302431e+00, 3.53087201e+00, 4.39949548e+00, 4.87399325e+00,\n",
       "       4.95366317e+00, 4.66851722e+00, 4.28383358e+00, 4.55713049e+00,\n",
       "       5.18740671e+00, 5.19465456e+00, 2.98397544e+00, 3.28586299e+00,\n",
       "       3.73000961e+00, 3.63330026e+00, 3.26215636e+00, 3.28218683e+00,\n",
       "       3.74048338e+00, 4.00879586e+00, 4.19074767e+00, 4.22431990e+00,\n",
       "       4.33372114e+00, 4.47607955e+00, 4.28561406e+00, 4.34541501e+00,\n",
       "       4.67004328e+00, 4.36242651e+00, 5.02352401e+00, 5.60793911e+00,\n",
       "       1.64867659e+00, 4.22803708e+00, 3.53607351e+00, 3.29088641e+00,\n",
       "       4.42179968e+00, 4.81706091e+00, 3.49704233e+00, 3.72526050e+00,\n",
       "       5.41644752e+00, 6.20011146e+00, 5.53388562e+00, 5.69733845e+00,\n",
       "       6.52266734e+00, 8.49531303e+00, 9.50443497e+00, 9.98756297e+00,\n",
       "       8.31631321e+00, 1.75559707e+00, 2.17273524e+00, 4.05138864e+00,\n",
       "       5.62081096e-01, 4.39677691e-01, 5.92046398e-02, 2.22942167e-01,\n",
       "       3.34795193e+00, 2.45543174e+00, 4.38069839e+00, 4.88872730e+00,\n",
       "       5.20399900e+00, 2.96374238e+00, 3.12859191e+00, 1.95309471e+00,\n",
       "       3.30081476e-01, 2.50049434e-01, 4.07643220e-01, 1.11985641e-01,\n",
       "       3.31200448e-01, 1.11404715e-02, 1.71851098e+00, 4.02134999e+00,\n",
       "       6.03397489e+00, 3.83211502e+00, 4.98039172e-01, 7.22858493e+00,\n",
       "       5.12752284e+00, 2.56774205e+00, 2.04317102e+00, 2.30898954e+00,\n",
       "       2.39638425e+00, 3.00062879e+00, 1.85027760e+00, 3.64350266e+00,\n",
       "       1.89933110e+00, 1.13393538e-01, 1.44822216e-01, 6.42949893e-02,\n",
       "       2.33773736e-01, 2.08270109e-01, 5.26095538e+00, 5.87728275e-02,\n",
       "       4.10268596e-02, 6.56267937e-02, 2.79446098e-02, 4.10153193e+00,\n",
       "       3.35143153e+00, 3.06116737e+00, 3.17811735e+00, 4.12038006e+00,\n",
       "       2.71507721e+00, 5.68535593e+00, 1.25016437e+01, 3.27039140e+01,\n",
       "       2.21009493e+01, 2.36911342e+01, 2.39172784e+01, 4.30899934e+01,\n",
       "       6.19109679e+01, 6.27741936e+01, 6.21073019e+01, 6.19768435e+01,\n",
       "       3.15924724e+01, 3.35205545e+01, 3.54340993e+01, 3.63538849e+01,\n",
       "       2.27589892e+01, 2.98238376e+01, 3.05017934e+01, 3.56877996e+01,\n",
       "       6.78480279e+01, 6.70501862e+01, 6.59970977e+01, 5.81214666e+01,\n",
       "       2.96714492e+01, 3.09621498e+01, 3.53856035e+01, 3.24953427e+01,\n",
       "       3.92681832e+01, 3.92455455e+01, 6.15639523e+01, 5.56338787e+01,\n",
       "       5.69903179e+01, 5.95134950e+01, 3.63282473e+01, 3.23978401e+01,\n",
       "       3.13776510e+01, 3.23118946e+01, 4.06554381e+01, 5.86812041e+01,\n",
       "       7.75170744e+01, 7.87876765e+01, 8.43834874e+01, 8.44557253e+01,\n",
       "       8.67957022e+01, 8.76801129e+01, 8.85033000e+01, 8.80570215e+01,\n",
       "       8.66041896e+01, 8.58040907e+01, 8.53967816e+01, 6.83267841e+01,\n",
       "       8.17587595e+01, 6.58240760e+01, 6.82750147e+01, 6.96559158e+01,\n",
       "       7.06913338e+01, 6.64288939e+01, 2.57733977e+01, 3.20064046e+01,\n",
       "       3.63394663e+01, 5.22439958e+01, 4.52690139e+01, 4.52827191e+01,\n",
       "       4.50274396e+01, 5.15827587e+01, 4.85254104e+01, 5.32423460e+01,\n",
       "       4.87602433e+01, 4.59146059e+01, 4.58832661e+01, 4.63674483e+01,\n",
       "       4.60255679e+01, 4.67634273e+01, 4.99944742e+01, 5.46876637e+01,\n",
       "       6.34051322e+01, 5.01106770e+01, 6.38882419e+01, 5.95018364e+01,\n",
       "       5.93793775e+01, 5.84304063e+01, 5.59748976e+01, 5.75488112e+01,\n",
       "       5.80681821e+01, 6.03175553e+01, 3.88621834e+01, 3.20872196e+01,\n",
       "       3.17476896e+01, 3.03926153e+01, 2.96170948e+01, 2.98297284e+01,\n",
       "       4.01098859e+01, 1.91305812e+01, 3.56971929e+01, 2.90269102e+01,\n",
       "       2.83113064e+01, 2.74053905e+01, 4.77648777e+01, 4.75170491e+01,\n",
       "       4.18204750e+01, 4.14291308e+01, 4.10960369e+01, 4.21933741e+01,\n",
       "       4.10162997e+01, 4.74476325e+01, 3.41144216e+01, 3.49001810e+01,\n",
       "       5.14404957e+01, 4.23416356e+01, 4.15748231e+01, 4.38311895e+01,\n",
       "       3.95672570e+01, 2.19070940e+01, 1.55979101e+01, 1.78950136e+01,\n",
       "       1.93403310e+01, 2.29939815e+01, 2.50038211e+01, 2.55055787e+01,\n",
       "       2.70753667e+01, 2.72363596e+01, 2.62560736e+01, 2.48339813e+01,\n",
       "       1.99511677e+01, 1.77779417e+01, 1.74973946e+01, 1.90079769e+01,\n",
       "       2.02389952e+01, 1.88765557e+01, 2.03089281e+01, 2.07461779e+01,\n",
       "       1.99199806e+01, 1.28383769e+01, 1.87825401e+01, 2.02209929e+01,\n",
       "       2.06429358e+01, 2.81628992e+01, 8.06685461e+00, 1.42284682e+01,\n",
       "       1.61505192e+01, 1.66569361e+01, 1.61819900e+01, 1.58123852e+01,\n",
       "       1.84817662e+01, 1.75797200e+01, 1.68999392e+01, 1.47654695e+01,\n",
       "       1.40924220e+01, 1.29897431e+01, 1.16293931e+01, 1.11661542e+01,\n",
       "       1.13515857e+01, 1.21859645e+01, 1.32833322e+01, 1.42646797e+01,\n",
       "       1.21681894e+01, 1.01427989e+01, 1.01587030e+01, 1.06260107e+01,\n",
       "       8.52193518e+00, 9.42750927e+00, 9.67475011e+00, 9.95972364e+00,\n",
       "       1.13809712e+01, 1.60894059e+01, 1.51198777e+01, 1.10148382e+01,\n",
       "       7.40495030e+00, 1.12252512e+01, 1.67107642e+01, 1.38546490e+01,\n",
       "       1.15429320e+01, 1.56383225e+01, 1.29220432e+01, 1.30984073e+01,\n",
       "       9.93793688e+00, 9.26898136e+00, 9.30198267e+00, 1.06987013e+01,\n",
       "       7.15304709e+00, 1.15119563e+01, 5.68372575e+00, 1.53967513e+01,\n",
       "       2.60304872e+00, 1.14432867e+01, 1.28339940e+01, 1.42905220e+01,\n",
       "       1.26296541e+01, 1.29305384e+01, 1.59267456e+01, 2.05231099e-01,\n",
       "       7.19984729e+00, 7.96424870e+00, 1.76587074e+01, 2.25094463e+01,\n",
       "       2.37209752e+01, 2.19135990e+01, 1.28898207e+01, 1.09433064e+01])"
      ]
     },
     "execution_count": 13,
     "metadata": {},
     "output_type": "execute_result"
    }
   ],
   "source": [
    "y"
   ]
  },
  {
   "cell_type": "code",
   "execution_count": 14,
   "id": "8c5c7f9a",
   "metadata": {},
   "outputs": [
    {
     "data": {
      "text/plain": [
       "array([[1.00000000e+000, 9.56536204e-001, 0.00000000e+000, ...,\n",
       "        0.00000000e+000, 0.00000000e+000, 0.00000000e+000],\n",
       "       [9.56536204e-001, 1.00000000e+000, 0.00000000e+000, ...,\n",
       "        0.00000000e+000, 0.00000000e+000, 0.00000000e+000],\n",
       "       [0.00000000e+000, 0.00000000e+000, 1.00000000e+000, ...,\n",
       "        0.00000000e+000, 0.00000000e+000, 0.00000000e+000],\n",
       "       ...,\n",
       "       [0.00000000e+000, 0.00000000e+000, 0.00000000e+000, ...,\n",
       "        1.00000000e+000, 5.32497822e-017, 1.18289931e-125],\n",
       "       [0.00000000e+000, 0.00000000e+000, 0.00000000e+000, ...,\n",
       "        5.32497822e-017, 1.00000000e+000, 9.49251730e-052],\n",
       "       [0.00000000e+000, 0.00000000e+000, 0.00000000e+000, ...,\n",
       "        1.18289931e-125, 9.49251730e-052, 1.00000000e+000]])"
      ]
     },
     "execution_count": 14,
     "metadata": {},
     "output_type": "execute_result"
    }
   ],
   "source": [
    "matrix"
   ]
  },
  {
   "cell_type": "code",
   "execution_count": 15,
   "id": "539322ae",
   "metadata": {},
   "outputs": [
    {
     "data": {
      "text/plain": [
       "array([[ 3.99531162e+003, -1.53534826e+003,  1.23920088e-045, ...,\n",
       "        -1.34992082e-073, -6.39042419e-082,  1.31424400e-104],\n",
       "       [-1.53534826e+003,  6.05140419e+002, -5.02246796e-046, ...,\n",
       "         5.47121469e-074,  2.59003212e-082, -5.32661693e-105],\n",
       "       [ 1.23920091e-045, -5.02246808e-046,  5.90804899e+004, ...,\n",
       "        -1.10660702e-023, -5.23859488e-032,  1.07736070e-054],\n",
       "       ...,\n",
       "       [-1.34992127e-073,  5.47121652e-074, -1.10660724e-023, ...,\n",
       "         9.42499210e+002,  5.35596057e-006, -1.10153037e-028],\n",
       "       [-6.39042632e-082,  2.59003298e-082, -5.23859593e-032, ...,\n",
       "         5.35596057e-006,  2.92731133e+004, -7.10705781e-019],\n",
       "       [ 1.31424444e-104, -5.32661870e-105,  1.07736092e-054, ...,\n",
       "        -1.10153037e-028, -7.10705781e-019,  1.00000000e+000]])"
      ]
     },
     "execution_count": 15,
     "metadata": {},
     "output_type": "execute_result"
    }
   ],
   "source": [
    "np.linalg.inv(matrix)"
   ]
  },
  {
   "cell_type": "code",
   "execution_count": 16,
   "id": "bc873fd9",
   "metadata": {},
   "outputs": [],
   "source": [
    "coef=np.dot(y,np.linalg.inv(matrix))"
   ]
  },
  {
   "cell_type": "code",
   "execution_count": 17,
   "id": "38a2dde3",
   "metadata": {},
   "outputs": [
    {
     "data": {
      "text/plain": [
       "array([-1.03266967e+05,  3.77719899e+04, -2.40177302e+07,  3.64249647e+06,\n",
       "       -6.80362122e+05,  2.18466864e+05, -9.73942020e+03,  9.89125938e+08,\n",
       "        3.70253869e+03,  4.85906049e+03, -2.42346821e+03,  1.31339389e+10,\n",
       "       -4.28065072e+01,  3.07555542e+03,  3.03536735e+00,  1.45295865e+03,\n",
       "       -5.54250485e+09, -9.41574169e+09, -2.05200617e+05,  2.02618277e+06,\n",
       "       -5.51221921e+08, -2.62728469e+03,  1.90902802e+03, -2.70870742e+03,\n",
       "        8.92187654e+03, -3.18457339e+02,  6.71831658e+01,  6.23759621e+01,\n",
       "       -1.03874717e+02, -2.19618589e+05,  7.29736018e+06, -4.13038817e+09,\n",
       "       -5.67040559e+09,  9.79338215e+09, -1.24025351e+01,  1.33200033e+09,\n",
       "       -3.75278936e+00,  5.41263473e+00,  3.38805683e+00,  2.97193341e+00,\n",
       "        7.55866758e+00,  2.57641854e+01, -4.42212523e+01,  2.11239045e+02,\n",
       "        1.61936488e+05,  3.38570239e+01,  9.83426428e+03,  3.77085238e+03,\n",
       "       -1.34996183e+04,  1.75559707e+00, -1.51730710e+02,  1.54852333e+02,\n",
       "        1.30497420e+05, -9.22023985e+04, -6.00897693e+04, -1.69475913e-01,\n",
       "       -5.87599907e+00,  6.02362577e+00,  3.45698527e+00, -2.71643499e+01,\n",
       "       -1.35872517e+01, -2.99956918e+03,  8.81929963e+00,  6.93174130e+00,\n",
       "       -5.83600152e+00,  1.45351823e-01,  2.78976909e+00, -6.28889038e+01,\n",
       "        6.64936295e+00, -6.39462975e+00, -5.50206187e+00,  4.58974155e+02,\n",
       "        1.21046356e+01, -4.59090867e+02, -3.84454266e+03,  4.39485800e+04,\n",
       "       -2.42108955e+04, -2.14892782e+04,  1.31631129e+03,  1.65510545e+00,\n",
       "        1.95922085e+04,  7.42999845e+07, -1.76880626e+07,  3.10641142e+00,\n",
       "        5.81061077e-01,  8.77633765e+04,  1.07390409e+04, -1.62767805e+05,\n",
       "       -3.06345449e+05, -3.17406966e-01, -9.06130560e+01, -6.81972505e+02,\n",
       "        1.50913853e+05, -2.53422147e+05, -5.74863211e+00, -2.09968578e+03,\n",
       "        2.75932481e+00,  6.04189462e-01,  3.14481938e+00, -3.44694995e+03,\n",
       "        2.50358538e+00,  5.07772968e+00,  6.74630601e+00,  7.84241216e+00,\n",
       "        2.21009493e+01, -8.54735450e+00, -3.17759088e+02,  3.79527003e+01,\n",
       "        1.01032809e+02,  6.27741936e+01,  6.21073019e+01,  6.19768435e+01,\n",
       "        3.15924724e+01,  3.35205545e+01,  3.54340993e+01,  1.78528598e+02,\n",
       "        2.27589892e+01, -1.24006899e+01,  3.05017934e+01,  3.56877996e+01,\n",
       "        6.78480279e+01,  6.70501862e+01,  6.59970977e+01,  5.81214666e+01,\n",
       "        2.96074130e+01,  3.09587164e+01,  3.53856035e+01,  3.26102401e+01,\n",
       "        3.92603687e+01,  3.89276167e+01,  6.15639523e+01,  5.56338787e+01,\n",
       "        5.69903179e+01,  5.95134950e+01, -1.12825864e+03, -4.87240693e+01,\n",
       "        3.13776510e+01,  3.23053130e+01,  4.06554381e+01,  5.82093127e+01,\n",
       "        7.75170744e+01,  7.87876765e+01,  8.43834874e+01,  8.44557253e+01,\n",
       "        8.67957022e+01,  8.76801129e+01,  8.85033000e+01,  8.80570215e+01,\n",
       "        8.66041896e+01,  8.58040907e+01,  8.53967816e+01,  6.83267841e+01,\n",
       "        8.17587595e+01,  6.58240760e+01, -3.98835113e+01,  2.23667705e+02,\n",
       "        3.39950062e+01,  6.64123900e+01, -3.04388040e+02,  3.11238508e+01,\n",
       "        3.63394663e+01,  1.18974784e+03,  4.52645316e+01,  4.52827191e+01,\n",
       "        4.50274396e+01,  5.70445606e+01,  4.99225648e+01,  5.26612903e+01,\n",
       "        4.87562465e+01,  4.59101866e+01,  4.58765786e+01,  4.63673025e+01,\n",
       "        4.60255679e+01,  4.67588801e+01,  4.99944742e+01,  5.44917600e+01,\n",
       "        6.34051338e+01,  5.00887946e+01,  6.38865782e+01,  5.95018364e+01,\n",
       "        5.93793775e+01,  5.81620521e+01,  5.59745615e+01,  5.75485457e+01,\n",
       "        5.80681821e+01,  6.03174432e+01,  3.86309057e+01,  3.14656512e+01,\n",
       "        3.24687356e+01,  2.21057458e+01,  2.96170948e+01,  2.97362579e+01,\n",
       "        4.26531945e+01,  9.45522950e+00,  2.00659350e+02,  3.65632662e+01,\n",
       "        2.82373031e+01, -1.62882763e+02,  4.77652748e+01,  2.14954021e+02,\n",
       "        4.08704671e+01,  4.14229901e+01,  4.08774698e+01,  4.17246329e+01,\n",
       "        4.10100973e+01,  4.74467712e+01,  3.40530570e+01,  3.49001810e+01,\n",
       "        5.12708896e+01,  4.21277265e+01,  4.15748231e+01,  4.38311895e+01,\n",
       "        3.95667312e+01, -7.06124608e+00,  1.55979101e+01,  3.16673790e+00,\n",
       "        1.93318988e+01,  3.52304600e+03,  2.50038211e+01,  2.35930688e+01,\n",
       "        4.45632032e+02,  1.51627344e+01,  2.51733187e+01,  2.43033233e+01,\n",
       "        3.01104284e+03,  5.55038207e+01,  1.46821198e+01,  1.70658670e+01,\n",
       "        3.35191493e+02,  1.24029473e+06,  1.68281525e+01, -6.59245953e+03,\n",
       "        1.91538081e+01,  3.34873343e+03,  2.02391828e+01,  4.52891483e+04,\n",
       "        2.09646601e+01,  3.68620638e+03, -2.80173957e+01,  1.11236347e+01,\n",
       "       -6.01069575e+03, -1.24254844e+06,  1.03651260e+05,  1.29762687e+01,\n",
       "        7.20842195e+01,  1.75797200e+01,  1.66951274e+01,  1.47534267e+01,\n",
       "        1.40924220e+01,  1.30597530e+01,  1.16293931e+01,  1.11661542e+01,\n",
       "       -4.26242441e+02,  5.75641517e+00,  1.02742745e+01,  1.27937328e+01,\n",
       "        2.31810477e+01,  1.29218502e+01, -4.44139545e+02,  4.55344600e+02,\n",
       "        8.26141836e+00,  3.01353944e+01, -3.91485069e+01, -3.48293178e-03,\n",
       "       -3.45003780e+03,  1.53170108e+01, -3.15535596e+02,  1.09295072e+01,\n",
       "        5.17895721e+00, -8.29963303e-01,  1.67284583e+01,  1.31242871e+01,\n",
       "        1.95121852e+01,  1.54960872e+06,  8.39015404e+03, -2.31792384e+02,\n",
       "        7.48777350e+03, -2.61736975e+01,  2.52064245e+02, -2.73415561e+04,\n",
       "        3.62311245e+05, -5.56656267e+04,  1.63864615e+04,  1.51360826e+01,\n",
       "       -2.20973958e+00,  3.07031305e+04, -1.84465537e+06, -1.02432411e+04,\n",
       "        4.79430052e+03, -2.39273740e+03, -3.26960153e+03, -6.54887938e+01,\n",
       "        7.18101371e+04, -2.96734141e+04, -3.21346673e+06,  2.01663943e+07,\n",
       "        3.42697628e+01,  2.18892676e+04,  3.71767956e+05,  1.09433064e+01])"
      ]
     },
     "execution_count": 17,
     "metadata": {},
     "output_type": "execute_result"
    }
   ],
   "source": [
    "coef"
   ]
  },
  {
   "cell_type": "code",
   "execution_count": 18,
   "id": "7f98a1b3",
   "metadata": {},
   "outputs": [
    {
     "data": {
      "text/plain": [
       "4.306414335375596"
      ]
     },
     "execution_count": 18,
     "metadata": {},
     "output_type": "execute_result"
    }
   ],
   "source": [
    "np.sum(matrix[0,:])"
   ]
  },
  {
   "cell_type": "code",
   "execution_count": 19,
   "id": "c9d09760",
   "metadata": {},
   "outputs": [],
   "source": [
    "re=[]\n",
    "for i in range(0,len(y)):\n",
    "    result=np.dot(matrix[i,:],coef)\n",
    "    re.append(result)"
   ]
  },
  {
   "cell_type": "code",
   "execution_count": 20,
   "id": "008a45c5",
   "metadata": {},
   "outputs": [],
   "source": [
    "import matplotlib.pyplot as plt"
   ]
  },
  {
   "cell_type": "code",
   "execution_count": 21,
   "id": "c313d72d",
   "metadata": {},
   "outputs": [],
   "source": [
    "re=np.array(re)"
   ]
  },
  {
   "cell_type": "code",
   "execution_count": 22,
   "id": "39cf786f",
   "metadata": {},
   "outputs": [
    {
     "data": {
      "text/plain": [
       "3479.4409"
      ]
     },
     "execution_count": 22,
     "metadata": {},
     "output_type": "execute_result"
    }
   ],
   "source": [
    "x.max()"
   ]
  },
  {
   "cell_type": "code",
   "execution_count": 38,
   "id": "40e481c9",
   "metadata": {},
   "outputs": [
    {
     "data": {
      "text/plain": [
       "[<matplotlib.lines.Line2D at 0x1e485522ee0>]"
      ]
     },
     "execution_count": 38,
     "metadata": {},
     "output_type": "execute_result"
    },
    {
     "data": {
      "image/png": "[encoded data removed]",
      "text/plain": [
       "<Figure size 432x288 with 1 Axes>"
      ]
     },
     "metadata": {
      "needs_background": "light"
     },
     "output_type": "display_data"
    }
   ],
   "source": [
    "plt.plot(re)\n",
    "plt.plot(y)"
   ]
  },
  {
   "cell_type": "markdown",
   "id": "8fa408ad",
   "metadata": {},
   "source": [
    "# rms error"
   ]
  },
  {
   "cell_type": "code",
   "execution_count": 24,
   "id": "aa535d2e",
   "metadata": {},
   "outputs": [
    {
     "data": {
      "text/plain": [
       "3.3926431445947007e-06"
      ]
     },
     "execution_count": 24,
     "metadata": {},
     "output_type": "execute_result"
    }
   ],
   "source": [
    "np.sqrt(sum((re-y)**2)/len(y))"
   ]
  },
  {
   "cell_type": "markdown",
   "id": "33be468d",
   "metadata": {},
   "source": [
    "# code for testing\n"
   ]
  },
  {
   "cell_type": "code",
   "execution_count": 25,
   "id": "368938ff",
   "metadata": {},
   "outputs": [],
   "source": [
    "def well_b(vp):\n",
    "    uu=[]\n",
    "    \n",
    "    for i in range (0,len(x)):\n",
    "        uu.append(coef[i]*rb(vp,x[i]))\n",
    "        \n",
    "    return  np.sum(uu)\n",
    "        \n",
    "        \n",
    "    "
   ]
  },
  {
   "cell_type": "code",
   "execution_count": 26,
   "id": "2557d893",
   "metadata": {},
   "outputs": [
    {
     "data": {
      "text/plain": [
       "2.308989541680409"
      ]
     },
     "execution_count": 26,
     "metadata": {},
     "output_type": "execute_result"
    }
   ],
   "source": [
    "well_b(1557.87)"
   ]
  },
  {
   "cell_type": "code",
   "execution_count": 27,
   "id": "c783c4f0",
   "metadata": {},
   "outputs": [
    {
     "data": {
      "text/plain": [
       "3479.4409"
      ]
     },
     "execution_count": 27,
     "metadata": {},
     "output_type": "execute_result"
    }
   ],
   "source": [
    "x.max()"
   ]
  },
  {
   "cell_type": "code",
   "execution_count": 28,
   "id": "46e2ef8a",
   "metadata": {},
   "outputs": [
    {
     "data": {
      "text/plain": [
       "array([1593.1084, 1592.8976, 1542.571 , 1543.979 , 1544.2428, 1546.5647,\n",
       "       1551.9038, 1540.983 , 1550.2281, 1547.4348, 1550.7157, 1541.4274,\n",
       "       1569.7958, 1565.1023, 1579.5049, 1548.9027, 1541.3324, 1541.4922,\n",
       "       1538.7689, 1539.6547, 1540.8312, 1548.162 , 1551.3143, 1549.9154,\n",
       "       1551.9535, 1552.9426, 1555.9397, 1555.2559, 1555.7224, 1546.5809,\n",
       "       1534.3318, 1534.0907, 1534.0763, 1534.0822, 1581.7533, 1541.6156,\n",
       "       1528.042 , 1527.1421, 1525.1678, 1519.7397, 1528.5624, 1516.8593,\n",
       "       1517.3196, 1553.392 , 1533.0802, 1517.7174, 1471.1625, 1470.973 ,\n",
       "       1471.1101, 1441.1578, 1498.4109, 1498.4893, 1509.5619, 1509.7004,\n",
       "       1509.4635, 1672.1798, 1674.8947, 1660.7853, 1655.2969, 1649.6604,\n",
       "       1668.3551, 1690.2113, 1696.4275, 1681.3517, 1661.3602, 1657.1671,\n",
       "       1662.0083, 1697.8459, 1707.6282, 1707.4861, 1681.5624, 1686.0726,\n",
       "       1685.0153, 1686.0529, 1565.7539, 1567.4027, 1567.2856, 1567.5507,\n",
       "       1568.1521, 1557.87  , 1536.6307, 1540.4546, 1540.1276, 1521.2631,\n",
       "       1522.1921, 1503.3073, 1504.4054, 1503.4351, 1503.8536, 1589.8499,\n",
       "       1511.8126, 1627.6597, 1628.9315, 1628.9845, 1636.156 , 1564.9312,\n",
       "       1921.3302, 1921.6903, 1780.9503, 1861.6119, 1919.3944, 1917.5056,\n",
       "       1962.3287, 2164.0571, 2102.7861, 1872.6456, 1890.5248, 2164.7075,\n",
       "       2216.4158, 2195.5632, 2204.5562, 2493.301 , 2635.4143, 2524.1016,\n",
       "       2315.9827, 2328.0879, 2436.9517, 2468.8809, 2612.8572, 2629.532 ,\n",
       "       2819.6643, 2955.5513, 3050.0696, 2566.302 , 2419.2979, 2272.9692,\n",
       "       2360.5625, 2346.0264, 2370.9717, 2416.7661, 2669.0378, 2675.0713,\n",
       "       2581.061 , 2535.2393, 2343.1604, 2216.8843, 2095.4585, 2062.4961,\n",
       "       2079.125 , 2188.7729, 2442.3376, 2593.7385, 2899.3906, 3091.6982,\n",
       "       3377.7634, 3441.1475, 3479.4409, 3466.6365, 3272.4451, 3165.897 ,\n",
       "       3084.1382, 2981.9871, 2913.2593, 2621.385 , 2342.1899, 2327.1418,\n",
       "       2328.728 , 2238.7256, 2327.6724, 2190.8196, 2354.855 , 2343.0703,\n",
       "       2405.6296, 2428.864 , 2486.0322, 2468.0715, 2470.0544, 2472.1646,\n",
       "       2411.3762, 2402.5908, 2368.0259, 2135.0791, 2017.3308, 2065.4741,\n",
       "       2126.3672, 2414.4617, 2221.0291, 2235.894 , 2276.1047, 2306.8132,\n",
       "       2268.5227, 1915.3411, 1924.5043, 1909.7936, 2042.0333, 2131.4829,\n",
       "       1954.0513, 1944.9873, 1864.9426, 1789.2015, 1795.2035, 1885.4175,\n",
       "       1878.4939, 1877.286 , 1890.9586, 1873.0004, 1850.3966, 1862.6227,\n",
       "       1882.1029, 1890.074 , 1963.7288, 1929.1288, 1951.7765, 1947.0383,\n",
       "       1932.0964, 1894.5658, 1852.8728, 1816.8265, 1762.3173, 1759.9689,\n",
       "       1713.3424, 1904.5272, 1897.9437, 1879.125 , 1833.059 , 1755.4232,\n",
       "       1783.473 , 1861.6735, 1742.6449, 1754.7007, 1704.5969, 1789.9792,\n",
       "       1887.7849, 1913.1736, 1690.1581, 1651.0513, 1613.6411, 1634.6611,\n",
       "       1616.6742, 1602.5236, 1623.3741, 1595.2865, 1621.7966, 1565.9905,\n",
       "       1582.8081, 1585.6421, 1574.8181, 1601.8491, 1587.9785, 1582.1792,\n",
       "       1585.3187, 1602.5219, 1629.0608, 1664.8665, 1698.2378, 1729.9132,\n",
       "       1757.1924, 1786.3877, 1826.9883, 1858.5107, 1802.8365, 1747.5557,\n",
       "       1704.7318, 1664.0245, 1624.6752, 1647.5852, 1667.8969, 1674.0466,\n",
       "       1676.521 , 1676.4971, 1683.1871, 1649.2703, 1651.3821, 1645.7192,\n",
       "       1619.1185, 1611.9248, 1616.5663, 1645.3547, 1635.6355, 1675.6628,\n",
       "       1653.5936, 1632.8817, 1615.1443, 1593.6763, 1595.579 , 1597.4319,\n",
       "       1596.3101, 1598.2919, 1598.9314, 1618.9376, 1593.4796, 1585.752 ,\n",
       "       1585.9231, 1576.9161, 1573.605 , 1618.958 , 1593.6532, 1596.1729,\n",
       "       1600.2236, 1600.7058, 1600.0178, 1554.2035, 1538.1891, 1536.3885,\n",
       "       1543.8839, 1542.6334, 1513.2759, 1509.9045, 1503.7831, 1492.9441])"
      ]
     },
     "execution_count": 28,
     "metadata": {},
     "output_type": "execute_result"
    }
   ],
   "source": [
    "x"
   ]
  },
  {
   "cell_type": "code",
   "execution_count": 29,
   "id": "bfce4412",
   "metadata": {},
   "outputs": [
    {
     "data": {
      "text/html": [
       "<div>\n",
       "<style scoped>\n",
       "    .dataframe tbody tr th:only-of-type {\n",
       "        vertical-align: middle;\n",
       "    }\n",
       "\n",
       "    .dataframe tbody tr th {\n",
       "        vertical-align: top;\n",
       "    }\n",
       "\n",
       "    .dataframe thead th {\n",
       "        text-align: right;\n",
       "    }\n",
       "</style>\n",
       "<table border=\"1\" class=\"dataframe\">\n",
       "  <thead>\n",
       "    <tr style=\"text-align: right;\">\n",
       "      <th></th>\n",
       "      <th>mbsf</th>\n",
       "      <th>vp</th>\n",
       "      <th>Sh</th>\n",
       "      <th>mbsf.1</th>\n",
       "      <th>Unnamed: 4</th>\n",
       "      <th>Unnamed: 5</th>\n",
       "      <th>P-vel</th>\n",
       "      <th>mbsf.2</th>\n",
       "      <th>Sh.1</th>\n",
       "      <th>mbsf.3</th>\n",
       "    </tr>\n",
       "  </thead>\n",
       "  <tbody>\n",
       "    <tr>\n",
       "      <th>0</th>\n",
       "      <td>290.4480</td>\n",
       "      <td>1654.9596</td>\n",
       "      <td>3.907924</td>\n",
       "      <td>290.4480</td>\n",
       "      <td>NaN</td>\n",
       "      <td>NaN</td>\n",
       "      <td>1654.9596</td>\n",
       "      <td>290.4480</td>\n",
       "      <td>3.907924</td>\n",
       "      <td>290.4480</td>\n",
       "    </tr>\n",
       "    <tr>\n",
       "      <th>1</th>\n",
       "      <td>290.6004</td>\n",
       "      <td>1651.0299</td>\n",
       "      <td>3.572575</td>\n",
       "      <td>290.6004</td>\n",
       "      <td>NaN</td>\n",
       "      <td>NaN</td>\n",
       "      <td>1651.0299</td>\n",
       "      <td>290.6004</td>\n",
       "      <td>3.572575</td>\n",
       "      <td>290.6004</td>\n",
       "    </tr>\n",
       "    <tr>\n",
       "      <th>2</th>\n",
       "      <td>290.7528</td>\n",
       "      <td>1642.2249</td>\n",
       "      <td>1.859209</td>\n",
       "      <td>290.7528</td>\n",
       "      <td>NaN</td>\n",
       "      <td>NaN</td>\n",
       "      <td>1642.2249</td>\n",
       "      <td>290.7528</td>\n",
       "      <td>1.859209</td>\n",
       "      <td>290.7528</td>\n",
       "    </tr>\n",
       "    <tr>\n",
       "      <th>3</th>\n",
       "      <td>290.9052</td>\n",
       "      <td>1633.7098</td>\n",
       "      <td>4.118992</td>\n",
       "      <td>290.9052</td>\n",
       "      <td>NaN</td>\n",
       "      <td>NaN</td>\n",
       "      <td>1633.7098</td>\n",
       "      <td>290.9052</td>\n",
       "      <td>4.118992</td>\n",
       "      <td>290.9052</td>\n",
       "    </tr>\n",
       "    <tr>\n",
       "      <th>4</th>\n",
       "      <td>291.0576</td>\n",
       "      <td>1637.5313</td>\n",
       "      <td>4.758884</td>\n",
       "      <td>291.0576</td>\n",
       "      <td>NaN</td>\n",
       "      <td>NaN</td>\n",
       "      <td>1637.5313</td>\n",
       "      <td>291.0576</td>\n",
       "      <td>4.758884</td>\n",
       "      <td>291.0576</td>\n",
       "    </tr>\n",
       "    <tr>\n",
       "      <th>5</th>\n",
       "      <td>291.2100</td>\n",
       "      <td>1641.0544</td>\n",
       "      <td>4.315845</td>\n",
       "      <td>291.2100</td>\n",
       "      <td>NaN</td>\n",
       "      <td>NaN</td>\n",
       "      <td>1641.0544</td>\n",
       "      <td>291.2100</td>\n",
       "      <td>4.315845</td>\n",
       "      <td>291.2100</td>\n",
       "    </tr>\n",
       "    <tr>\n",
       "      <th>6</th>\n",
       "      <td>291.3624</td>\n",
       "      <td>1651.0244</td>\n",
       "      <td>8.205951</td>\n",
       "      <td>291.3624</td>\n",
       "      <td>NaN</td>\n",
       "      <td>NaN</td>\n",
       "      <td>1651.0244</td>\n",
       "      <td>291.3624</td>\n",
       "      <td>8.205951</td>\n",
       "      <td>291.3624</td>\n",
       "    </tr>\n",
       "    <tr>\n",
       "      <th>7</th>\n",
       "      <td>291.5148</td>\n",
       "      <td>1664.6549</td>\n",
       "      <td>8.035377</td>\n",
       "      <td>291.5148</td>\n",
       "      <td>NaN</td>\n",
       "      <td>NaN</td>\n",
       "      <td>1664.6549</td>\n",
       "      <td>291.5148</td>\n",
       "      <td>8.035377</td>\n",
       "      <td>291.5148</td>\n",
       "    </tr>\n",
       "    <tr>\n",
       "      <th>8</th>\n",
       "      <td>291.6672</td>\n",
       "      <td>1686.3802</td>\n",
       "      <td>6.838544</td>\n",
       "      <td>291.6672</td>\n",
       "      <td>NaN</td>\n",
       "      <td>NaN</td>\n",
       "      <td>1686.3802</td>\n",
       "      <td>291.6672</td>\n",
       "      <td>6.838544</td>\n",
       "      <td>291.6672</td>\n",
       "    </tr>\n",
       "  </tbody>\n",
       "</table>\n",
       "</div>"
      ],
      "text/plain": [
       "       mbsf         vp        Sh    mbsf.1  Unnamed: 4  Unnamed: 5      P-vel  \\\n",
       "0  290.4480  1654.9596  3.907924  290.4480         NaN         NaN  1654.9596   \n",
       "1  290.6004  1651.0299  3.572575  290.6004         NaN         NaN  1651.0299   \n",
       "2  290.7528  1642.2249  1.859209  290.7528         NaN         NaN  1642.2249   \n",
       "3  290.9052  1633.7098  4.118992  290.9052         NaN         NaN  1633.7098   \n",
       "4  291.0576  1637.5313  4.758884  291.0576         NaN         NaN  1637.5313   \n",
       "5  291.2100  1641.0544  4.315845  291.2100         NaN         NaN  1641.0544   \n",
       "6  291.3624  1651.0244  8.205951  291.3624         NaN         NaN  1651.0244   \n",
       "7  291.5148  1664.6549  8.035377  291.5148         NaN         NaN  1664.6549   \n",
       "8  291.6672  1686.3802  6.838544  291.6672         NaN         NaN  1686.3802   \n",
       "\n",
       "     mbsf.2      Sh.1    mbsf.3  \n",
       "0  290.4480  3.907924  290.4480  \n",
       "1  290.6004  3.572575  290.6004  \n",
       "2  290.7528  1.859209  290.7528  \n",
       "3  290.9052  4.118992  290.9052  \n",
       "4  291.0576  4.758884  291.0576  \n",
       "5  291.2100  4.315845  291.2100  \n",
       "6  291.3624  8.205951  291.3624  \n",
       "7  291.5148  8.035377  291.5148  \n",
       "8  291.6672  6.838544  291.6672  "
      ]
     },
     "execution_count": 29,
     "metadata": {},
     "output_type": "execute_result"
    }
   ],
   "source": [
    "data2=pd.read_excel(r\"F:\\download from c to e\\WellB.xlsx\")\n",
    "data2.head(9)"
   ]
  },
  {
   "cell_type": "code",
   "execution_count": 30,
   "id": "f2fd7a88",
   "metadata": {},
   "outputs": [],
   "source": [
    "input=data2.vp"
   ]
  },
  {
   "cell_type": "code",
   "execution_count": 31,
   "id": "9559fc5c",
   "metadata": {},
   "outputs": [],
   "source": [
    "\n",
    "pre_output=[]\n",
    "for i in range(0,len(input)):\n",
    "    pre_output.append(well_b(input[i]))"
   ]
  },
  {
   "cell_type": "code",
   "execution_count": 32,
   "id": "7d601820",
   "metadata": {},
   "outputs": [],
   "source": [
    "output=data2.Sh"
   ]
  },
  {
   "cell_type": "code",
   "execution_count": 33,
   "id": "0748e976",
   "metadata": {},
   "outputs": [
    {
     "data": {
      "text/plain": [
       "16.279785027912894"
      ]
     },
     "execution_count": 33,
     "metadata": {},
     "output_type": "execute_result"
    }
   ],
   "source": [
    "well_b(1664.6549)"
   ]
  },
  {
   "cell_type": "code",
   "execution_count": 34,
   "id": "3b205eef",
   "metadata": {},
   "outputs": [],
   "source": [
    "ut=[]\n",
    "for i in range(0,len(pre_output)):\n",
    "        ut.append(pre_output[i])"
   ]
  },
  {
   "cell_type": "code",
   "execution_count": 35,
   "id": "d942c13b",
   "metadata": {},
   "outputs": [
    {
     "data": {
      "text/plain": [
       "[<matplotlib.lines.Line2D at 0x1e4853e5310>]"
      ]
     },
     "execution_count": 35,
     "metadata": {},
     "output_type": "execute_result"
    },
    {
     "data": {
      "image/png": "[encoded data removed]",
      "text/plain": [
       "<Figure size 432x288 with 1 Axes>"
      ]
     },
     "metadata": {
      "needs_background": "light"
     },
     "output_type": "display_data"
    }
   ],
   "source": [
    "#plt.plot(scipy.signal.medfilt(ut))\n",
    "plt.plot(output)\n",
    "plt.plot(ut)"
   ]
  },
  {
   "cell_type": "code",
   "execution_count": 36,
   "id": "81a4d555",
   "metadata": {},
   "outputs": [
    {
     "ename": "NameError",
     "evalue": "name 'scipy' is not defined",
     "output_type": "error",
     "traceback": [
      "\u001b[1;31m---------------------------------------------------------------------------\u001b[0m",
      "\u001b[1;31mNameError\u001b[0m                                 Traceback (most recent call last)",
      "\u001b[1;32m<ipython-input-36-b2013322c4fb>\u001b[0m in \u001b[0;36m<module>\u001b[1;34m\u001b[0m\n\u001b[1;32m----> 1\u001b[1;33m \u001b[0mnp\u001b[0m\u001b[1;33m.\u001b[0m\u001b[0msqrt\u001b[0m\u001b[1;33m(\u001b[0m\u001b[0msum\u001b[0m\u001b[1;33m(\u001b[0m\u001b[1;33m(\u001b[0m\u001b[0mscipy\u001b[0m\u001b[1;33m.\u001b[0m\u001b[0msignal\u001b[0m\u001b[1;33m.\u001b[0m\u001b[0mmedfilt\u001b[0m\u001b[1;33m(\u001b[0m\u001b[0mut\u001b[0m\u001b[1;33m)\u001b[0m\u001b[1;33m-\u001b[0m\u001b[0moutput\u001b[0m\u001b[1;33m)\u001b[0m\u001b[1;33m**\u001b[0m\u001b[1;36m2\u001b[0m\u001b[1;33m)\u001b[0m\u001b[1;33m/\u001b[0m\u001b[0mlen\u001b[0m\u001b[1;33m(\u001b[0m\u001b[0mut\u001b[0m\u001b[1;33m)\u001b[0m\u001b[1;33m)\u001b[0m\u001b[1;33m\u001b[0m\u001b[1;33m\u001b[0m\u001b[0m\n\u001b[0m",
      "\u001b[1;31mNameError\u001b[0m: name 'scipy' is not defined"
     ]
    }
   ],
   "source": [
    "np.sqrt(sum((scipy.signal.medfilt(ut)-output)**2)/len(ut))"
   ]
  },
  {
   "cell_type": "code",
   "execution_count": null,
   "id": "24c96598",
   "metadata": {},
   "outputs": [],
   "source": [
    "import scipy.signal\n",
    "scipy.signal.medfilt(ut)"
   ]
  },
  {
   "cell_type": "code",
   "execution_count": null,
   "id": "8fd65d41",
   "metadata": {},
   "outputs": [],
   "source": [
    "pi=[]\n",
    "for i in range (0,len(ut)-5):\n",
    "    pi.append((ut[i]+ut[i+1]+ut[i+2]+ut[i+3]+ut[i+4]+ut[i+5])/5)"
   ]
  },
  {
   "cell_type": "code",
   "execution_count": null,
   "id": "672b6e3d",
   "metadata": {},
   "outputs": [],
   "source": [
    "plt.plot(pi-output[:-5])"
   ]
  },
  {
   "cell_type": "code",
   "execution_count": null,
   "id": "9dfac35c",
   "metadata": {},
   "outputs": [],
   "source": [
    "import numpy as np\n",
    "import matplotlib.pyplot as plt\n",
    "import pandas as pd"
   ]
  },
  {
   "cell_type": "code",
   "execution_count": null,
   "id": "9cc6adf5",
   "metadata": {},
   "outputs": [],
   "source": [
    "class rbf_:\n",
    "    def __init__(self,link=None):\n",
    "        self.data=pd.read_excel(link)\n",
    "        self.vp=self.data[\"Vp\"]\n",
    "        self.sat=self.data[\"Sh1\"]\n",
    "    def plot_sc(self,x,y):\n",
    "        plt.scatter(x,y)\n",
    "    def tec_ut(self,x):\n",
    "        self.vp=self.vp[:x]\n",
    "        self.sat=self.sat[:x]\n",
    "    def rbf(self,x)"
   ]
  },
  {
   "cell_type": "code",
   "execution_count": null,
   "id": "72ce7b26",
   "metadata": {},
   "outputs": [],
   "source": [
    "rb=rbf_(r\"F:\\download from c to e\\WellA.xlsx\")"
   ]
  },
  {
   "cell_type": "code",
   "execution_count": null,
   "id": "c22385fc",
   "metadata": {},
   "outputs": [],
   "source": [
    "rb.plot_sc(rb.vp,rb.sat)"
   ]
  },
  {
   "cell_type": "code",
   "execution_count": null,
   "id": "90d9efa5",
   "metadata": {},
   "outputs": [],
   "source": []
  },
  {
   "cell_type": "code",
   "execution_count": null,
   "id": "a401e063",
   "metadata": {},
   "outputs": [],
   "source": []
  },
  {
   "cell_type": "code",
   "execution_count": null,
   "id": "65789ca4",
   "metadata": {},
   "outputs": [],
   "source": []
  },
  {
   "cell_type": "code",
   "execution_count": null,
   "id": "73fa2253",
   "metadata": {},
   "outputs": [],
   "source": []
  },
  {
   "cell_type": "code",
   "execution_count": null,
   "id": "46af0eeb",
   "metadata": {},
   "outputs": [],
   "source": []
  },
  {
   "cell_type": "code",
   "execution_count": null,
   "id": "50a5aeb4",
   "metadata": {},
   "outputs": [],
   "source": []
  },
  {
   "cell_type": "code",
   "execution_count": null,
   "id": "9d307141",
   "metadata": {},
   "outputs": [],
   "source": []
  },
  {
   "cell_type": "code",
   "execution_count": null,
   "id": "e0b0c01f",
   "metadata": {},
   "outputs": [],
   "source": []
  },
  {
   "cell_type": "code",
   "execution_count": null,
   "id": "6107c2d2",
   "metadata": {},
   "outputs": [],
   "source": []
  },
  {
   "cell_type": "code",
   "execution_count": null,
   "id": "41c1d441",
   "metadata": {},
   "outputs": [],
   "source": []
  },
  {
   "cell_type": "code",
   "execution_count": null,
   "id": "c0d0b7b5",
   "metadata": {},
   "outputs": [],
   "source": []
  },
  {
   "cell_type": "code",
   "execution_count": null,
   "id": "711a59d1",
   "metadata": {},
   "outputs": [],
   "source": []
  },
  {
   "cell_type": "code",
   "execution_count": null,
   "id": "4036774c",
   "metadata": {},
   "outputs": [],
   "source": []
  },
  {
   "cell_type": "code",
   "execution_count": null,
   "id": "dbdfc93e",
   "metadata": {},
   "outputs": [],
   "source": []
  },
  {
   "cell_type": "code",
   "execution_count": null,
   "id": "bbd7cd85",
   "metadata": {},
   "outputs": [],
   "source": []
  },
  {
   "cell_type": "code",
   "execution_count": null,
   "id": "6b90cdd1",
   "metadata": {},
   "outputs": [],
   "source": []
  },
  {
   "cell_type": "code",
   "execution_count": null,
   "id": "3d7bc10a",
   "metadata": {},
   "outputs": [],
   "source": []
  },
  {
   "cell_type": "code",
   "execution_count": null,
   "id": "3dc96d8b",
   "metadata": {},
   "outputs": [],
   "source": []
  }
 ],
 "metadata": {
  "kernelspec": {
   "display_name": "Python 3",
   "language": "python",
   "name": "python3"
  },
  "language_info": {
   "codemirror_mode": {
    "name": "ipython",
    "version": 3
   },
   "file_extension": ".py",
   "mimetype": "text/x-python",
   "name": "python",
   "nbconvert_exporter": "python",
   "pygments_lexer": "ipython3",
   "version": "3.8.8"
  }
 },
 "nbformat": 4,
 "nbformat_minor": 5
}
